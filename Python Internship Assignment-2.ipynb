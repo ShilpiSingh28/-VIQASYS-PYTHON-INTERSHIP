{
 "cells": [
  {
   "cell_type": "markdown",
   "metadata": {},
   "source": [
    "___\n",
    "\n",
    "<a href='https://viqasys.com/wp-content/uploads/2021/07/ns1.png'><img src='https://viqasys.com/wp-content/uploads/2021/07/ns1.png'/></a>\n",
    "___\n",
    "<center><em>Content Copyright VIQASYS INNOVATIONS PVT LTD.</em></center>\n",
    "\n",
    "# Assignment 1"
   ]
  },
  {
   "cell_type": "markdown",
   "metadata": {},
   "source": [
    "# Question 1\n",
    "\n",
    "Write a program to calculate the area of a circle when the radius is given."
   ]
  },
  {
   "cell_type": "code",
   "execution_count": 1,
   "metadata": {},
   "outputs": [
    {
     "name": "stdout",
     "output_type": "stream",
     "text": [
      "The area of a circle with radius 5 is 78.53981633974483 square units.\n"
     ]
    }
   ],
   "source": [
    "import math\n",
    "\n",
    "# Function to calculate the area of a circle\n",
    "def calculate_circle_area(radius):\n",
    "    area = math.pi * (radius ** 2)\n",
    "    return area\n",
    "\n",
    "# Test the function\n",
    "radius = 5\n",
    "area = calculate_circle_area(radius)\n",
    "print(f\"The area of a circle with radius {radius} is {area} square units.\")"
   ]
  },
  {
   "cell_type": "markdown",
   "metadata": {},
   "source": [
    "## Question 2\n",
    "\n",
    "Write a program to determine whether a number is positive, negative, or zero."
   ]
  },
  {
   "cell_type": "code",
   "execution_count": 4,
   "metadata": {},
   "outputs": [
    {
     "name": "stdout",
     "output_type": "stream",
     "text": [
      "The number 5 is Positive.\n",
      "The number -5 is Negative.\n",
      "The number 0 is Zero.\n"
     ]
    }
   ],
   "source": [
    "# Your cod# Function to determine whether a number is positive, negative, or zero\n",
    "def check_number(num):\n",
    "    if num > 0:\n",
    "        return \"Positive\"\n",
    "    elif num < 0:\n",
    "        return \"Negative\"\n",
    "    else:\n",
    "        return \"Zero\"\n",
    "\n",
    "# Test the function\n",
    "num = 5\n",
    "result = check_number(num)\n",
    "print(f\"The number {num} is {result}.\")\n",
    "\n",
    "num = -5\n",
    "result = check_number(num)\n",
    "print(f\"The number {num} is {result}.\")\n",
    "\n",
    "num = 0\n",
    "result = check_number(num)\n",
    "print(f\"The number {num} is {result}.\")"
   ]
  },
  {
   "cell_type": "markdown",
   "metadata": {},
   "source": [
    "## Question 3\n",
    "Describe three different data types commonly used in programming"
   ]
  },
  {
   "cell_type": "code",
   "execution_count": null,
   "metadata": {},
   "outputs": [],
   "source": [
    "1.Integers: Integers are whole numbers, both positive and negative, without decimals, such as 1, 2, 3, -1, -2, -3, and so on. In many programming languages, integers are represented by the int data type. They are used to represent quantities, such as the number of apples in a basket, the number of students in a class, and so on.\n",
    "2.Floating-point numbers: Floating-point numbers, also known as floating-point digits or floats, are numbers that have a decimal point, such as 3.14, 0.01, and -2.5. In many programming languages, floating-point numbers are represented by the float data type. They are used to represent measurements, such as the weight of an object, the temperature of a room, and so on.\n",
    "3.Strings: Strings are sequences of characters, such as \"Hello, world!\", \"Python is a programming language\", and \"12345\". In many programming languages, strings are represented by the str data type. They are used to represent text, such as the name of a person, the title of a book, and so on."
   ]
  },
  {
   "cell_type": "markdown",
   "metadata": {},
   "source": [
    "## Question 4\n",
    "Write a program to print a pattern where 'n' repeats 1, 2, and 3 times respectively.\n"
   ]
  },
  {
   "cell_type": "code",
   "execution_count": 1,
   "metadata": {},
   "outputs": [
    {
     "name": "stdout",
     "output_type": "stream",
     "text": [
      "Enter a number: 3\n",
      "1 1 1 \n",
      "2 2 2 2 2 \n",
      "3 3 3 3 3 3 3 \n"
     ]
    }
   ],
   "source": [
    "n = int(input(\"Enter a number: \"))\n",
    "\n",
    "for i in range(n):\n",
    "    print(i+1, end=\" \")\n",
    "    for j in range(i+1):\n",
    "        print(i+1, end=\" \")\n",
    "    for j in range(i+1):\n",
    "        print(i+1, end=\" \")\n",
    "    print()"
   ]
  },
  {
   "cell_type": "markdown",
   "metadata": {},
   "source": [
    "## Question 5\n",
    "\n",
    "Write a program to calculate the number of days between two given dates."
   ]
  },
  {
   "cell_type": "code",
   "execution_count": 6,
   "metadata": {},
   "outputs": [
    {
     "name": "stdout",
     "output_type": "stream",
     "text": [
      "364\n"
     ]
    }
   ],
   "source": [
    "from datetime import date\n",
    "\n",
    "def num_days_between_dates(date1, date2):\n",
    "    return abs((date2 - date1).days)\n",
    "\n",
    "# Example usage:\n",
    "date1 = date(2022, 1, 1)\n",
    "date2 = date(2022, 12, 31)\n",
    "print(num_days_between_dates(date1, date2))"
   ]
  },
  {
   "cell_type": "markdown",
   "metadata": {},
   "source": [
    "## Question 6\n",
    "Write a program to calculate the volume of a sphere given its radius."
   ]
  },
  {
   "cell_type": "code",
   "execution_count": 7,
   "metadata": {},
   "outputs": [
    {
     "name": "stdout",
     "output_type": "stream",
     "text": [
      "The volume of the sphere with radius 6 is: 904.7786842338603\n"
     ]
    }
   ],
   "source": [
    "import math\n",
    "\n",
    "def sphere_volume(radius):\n",
    "    return (4/3) * math.pi * (radius ** 3)\n",
    "\n",
    "radius = 6\n",
    "volume = sphere_volume(radius)\n",
    "\n",
    "print(\"The volume of the sphere with radius\", radius, \"is:\", volume)"
   ]
  },
  {
   "cell_type": "markdown",
   "metadata": {},
   "source": [
    "## Question 7\n",
    "Write a program to get the difference between a given number and 17, if the number is greater than 17, return double the absolute difference.3\n",
    "\n"
   ]
  },
  {
   "cell_type": "code",
   "execution_count": 8,
   "metadata": {},
   "outputs": [
    {
     "name": "stdout",
     "output_type": "stream",
     "text": [
      "Please enter a number:20\n",
      "6\n"
     ]
    }
   ],
   "source": [
    "def num_diff():\n",
    "    a = int(input('Please enter a number:'))\n",
    "    d = a - 17\n",
    "    if a > 17:\n",
    "        s = 2 * abs(d)\n",
    "        return s\n",
    "    else:\n",
    "        return abs(d)\n",
    "\n",
    "print(num_diff())"
   ]
  },
  {
   "cell_type": "markdown",
   "metadata": {},
   "source": [
    "## Question 8\n",
    "\n",
    "Write a program that accepts a string and checks if it starts with \"Is\"."
   ]
  },
  {
   "cell_type": "code",
   "execution_count": 2,
   "metadata": {},
   "outputs": [
    {
     "name": "stdout",
     "output_type": "stream",
     "text": [
      "True\n",
      "False\n",
      "True\n",
      "False\n"
     ]
    }
   ],
   "source": [
    "def check_start(text):\n",
    "    return text.startswith('Is')\n",
    "\n",
    "# Test the function\n",
    "print(check_start('Is this a test?'))  # Returns True\n",
    "print(check_start('This is a test'))  # Returns False\n",
    "text1 = 'Is this a test?'\n",
    "text2 = 'This is a test'\n",
    "\n",
    "print(text1.startswith('Is'))  # Returns True\n",
    "print(text2.startswith('Is'))  # Returns False"
   ]
  },
  {
   "cell_type": "markdown",
   "metadata": {},
   "source": [
    "## Question 9\n",
    "\n",
    "Write a program to get a string which is n (non-negative integer) copies of a given string."
   ]
  },
  {
   "cell_type": "code",
   "execution_count": 9,
   "metadata": {},
   "outputs": [
    {
     "name": "stdout",
     "output_type": "stream",
     "text": [
      "abcabc\n",
      "ppp\n"
     ]
    }
   ],
   "source": [
    "def get_n_copies(text, n):\n",
    "    return text * n\n",
    "\n",
    "if __name__ == \"__main__\":\n",
    "    print(get_n_copies(\"abc\", 2))  \n",
    "    print(get_n_copies(\"p\", 3))  "
   ]
  },
  {
   "cell_type": "markdown",
   "metadata": {},
   "source": [
    "## Question 10 \n",
    "Write a program to find if a given number is odd or even.\n",
    "\n"
   ]
  },
  {
   "cell_type": "code",
   "execution_count": 10,
   "metadata": {},
   "outputs": [
    {
     "name": "stdout",
     "output_type": "stream",
     "text": [
      "Enter a number: 44\n",
      "even\n"
     ]
    }
   ],
   "source": [
    "def is_odd_or_even(num):\n",
    "    if num % 2 == 0:\n",
    "        return \"even\"\n",
    "    else:\n",
    "        return \"odd\"\n",
    "\n",
    "if __name__ == \"__main__\":\n",
    "    num = int(input(\"Enter a number: \"))\n",
    "    print(is_odd_or_even(num))"
   ]
  },
  {
   "cell_type": "markdown",
   "metadata": {},
   "source": [
    "## Question 11\n",
    "Write a program to check whether a character is a vowel or consonant.."
   ]
  },
  {
   "cell_type": "code",
   "execution_count": 11,
   "metadata": {},
   "outputs": [
    {
     "name": "stdout",
     "output_type": "stream",
     "text": [
      "Enter a character: a\n",
      "a is a vowel!\n"
     ]
    }
   ],
   "source": [
    "def is_vowel(char):\n",
    "    vowels = 'aeiouAEIOU'\n",
    "    if char in vowels:\n",
    "        return True\n",
    "    else:\n",
    "        return False\n",
    "\n",
    "char = input(\"Enter a character: \")\n",
    "if is_vowel(char):\n",
    "    print(char, \"is a vowel!\")\n",
    "else:\n",
    "    print(char, \"is a consonant!\")"
   ]
  },
  {
   "cell_type": "markdown",
   "metadata": {},
   "source": [
    "## Question 12\n",
    "Write a program to calculate the area of a triangle when the base and height are given"
   ]
  },
  {
   "cell_type": "code",
   "execution_count": null,
   "metadata": {},
   "outputs": [
    {
     "name": "stdout",
     "output_type": "stream",
     "text": [
      "Enter the number of triangles to calculate the area: 23*2\n",
      "Enter base of triangle: 24\n",
      "Enter height of triangle: 56\n",
      "The area of the triangle is:  672.0\n",
      "Enter base of triangle: 65\n",
      "Enter height of triangle: 7\n",
      "The area of the triangle is:  227.5\n",
      "Enter base of triangle: 2\n",
      "Enter height of triangle: 5\n",
      "The area of the triangle is:  5.0\n"
     ]
    }
   ],
   "source": [
    "NumOfTri = eval(input(\"Enter the number of triangles to calculate the area: \"))\n",
    "\n",
    "for i in range(NumOfTri):\n",
    "  base = eval(input(\"Enter base of triangle: \"))\n",
    "  height = eval(input(\"Enter height of triangle: \"))\n",
    "\n",
    "  area = base * height / 2\n",
    "\n",
    "  print(\"The area of the triangle is: \", area)\n",
    "\n",
    "print(\"Done! Triangle Area Program is finished\")"
   ]
  },
  {
   "cell_type": "markdown",
   "metadata": {},
   "source": [
    "## Question 13\n",
    "Write a program to return True if a number in the given list is even."
   ]
  },
  {
   "cell_type": "code",
   "execution_count": 3,
   "metadata": {},
   "outputs": [
    {
     "name": "stdout",
     "output_type": "stream",
     "text": [
      "False\n",
      "True\n"
     ]
    }
   ],
   "source": [
    "def has_even_number(numbers):\n",
    "    for num in numbers:\n",
    "        if num % 2 == 0:\n",
    "            return True\n",
    "    return False\n",
    "\n",
    "numbers = [1, 3, 5, 7, 9]\n",
    "print(has_even_number(numbers)) #output:false  \n",
    "\n",
    "numbers = [1, 3, 5, 7, 8]\n",
    "print(has_even_number(numbers))  #output:false"
   ]
  },
  {
   "cell_type": "markdown",
   "metadata": {},
   "source": [
    "## Question 14\n",
    "Write a program to create a new string where 'xy' has been added to the front of a given string. If the string already begins with 'xy', return the string unchanged.\n"
   ]
  },
  {
   "cell_type": "code",
   "execution_count": 4,
   "metadata": {},
   "outputs": [
    {
     "name": "stdout",
     "output_type": "stream",
     "text": [
      "xyhello\n",
      "xyworld\n"
     ]
    }
   ],
   "source": [
    "def add_xy(s):\n",
    "    if s.startswith('xy'):\n",
    "        return s\n",
    "    else:\n",
    "        return 'xy' + s\n",
    "\n",
    "s = 'hello'\n",
    "print(add_xy(s))  # Output: 'xyhello'\n",
    "\n",
    "s = 'xyworld'\n",
    "print(add_xy(s))  # Output: 'xyworld'"
   ]
  },
  {
   "cell_type": "markdown",
   "metadata": {},
   "source": [
    "## Question 15\n",
    "Write a program to calculate the principal amount when the interest, time, and amount are given.\n"
   ]
  },
  {
   "cell_type": "code",
   "execution_count": 5,
   "metadata": {},
   "outputs": [
    {
     "name": "stdout",
     "output_type": "stream",
     "text": [
      "The principal amount is:  909.090909090909\n"
     ]
    }
   ],
   "source": [
    "def calculate_principal(interest, time, amount):\n",
    "    principal = amount / (1 + interest * time)\n",
    "    return principal\n",
    "\n",
    "interest = 0.05  # 5%\n",
    "time = 2  # 2 years\n",
    "amount = 1000  # $1000\n",
    "\n",
    "principal = calculate_principal(interest, time, amount)\n",
    "print(\"The principal amount is: \", principal)"
   ]
  },
  {
   "cell_type": "markdown",
   "metadata": {},
   "source": [
    "## Question 16\n",
    "Write a program to calculate the distance between two points (x1, y1) and (x2, y2)."
   ]
  },
  {
   "cell_type": "code",
   "execution_count": 6,
   "metadata": {},
   "outputs": [
    {
     "name": "stdout",
     "output_type": "stream",
     "text": [
      "The distance between the two points is:  5.0\n"
     ]
    }
   ],
   "source": [
    "import math\n",
    "\n",
    "def calculate_distance(x1, y1, x2, y2):\n",
    "    distance = math.sqrt((x2 - x1)**2 + (y2 - y1)**2)\n",
    "    return distance\n",
    "\n",
    "x1 = 0\n",
    "y1 = 0\n",
    "x2 = 3\n",
    "y2 = 4\n",
    "\n",
    "distance = calculate_distance(x1, y1, x2, y2)\n",
    "print(\"The distance between the two points is: \", distance)"
   ]
  },
  {
   "cell_type": "markdown",
   "metadata": {},
   "source": [
    "## Question 17\n",
    "Write a program to convert height in feet and inches to centimeters."
   ]
  },
  {
   "cell_type": "code",
   "execution_count": 7,
   "metadata": {},
   "outputs": [
    {
     "name": "stdout",
     "output_type": "stream",
     "text": [
      "Enter height in feet: 12\n",
      "Enter height in inches: 2.5\n"
     ]
    },
    {
     "ename": "ValueError",
     "evalue": "invalid literal for int() with base 10: '2.5'",
     "output_type": "error",
     "traceback": [
      "\u001b[1;31m---------------------------------------------------------------------------\u001b[0m",
      "\u001b[1;31mValueError\u001b[0m                                Traceback (most recent call last)",
      "Cell \u001b[1;32mIn[7], line 7\u001b[0m\n\u001b[0;32m      4\u001b[0m     \u001b[38;5;28;01mreturn\u001b[39;00m cm\n\u001b[0;32m      6\u001b[0m feet \u001b[38;5;241m=\u001b[39m \u001b[38;5;28mint\u001b[39m(\u001b[38;5;28minput\u001b[39m(\u001b[38;5;124m\"\u001b[39m\u001b[38;5;124mEnter height in feet: \u001b[39m\u001b[38;5;124m\"\u001b[39m))\n\u001b[1;32m----> 7\u001b[0m inches \u001b[38;5;241m=\u001b[39m \u001b[38;5;28mint\u001b[39m(\u001b[38;5;28minput\u001b[39m(\u001b[38;5;124m\"\u001b[39m\u001b[38;5;124mEnter height in inches: \u001b[39m\u001b[38;5;124m\"\u001b[39m))\n\u001b[0;32m      9\u001b[0m cm \u001b[38;5;241m=\u001b[39m convert_to_cm(feet, inches)\n\u001b[0;32m     10\u001b[0m \u001b[38;5;28mprint\u001b[39m(\u001b[38;5;124mf\u001b[39m\u001b[38;5;124m\"\u001b[39m\u001b[38;5;124mHeight in centimeters: \u001b[39m\u001b[38;5;132;01m{\u001b[39;00mcm\u001b[38;5;132;01m:\u001b[39;00m\u001b[38;5;124m.2f\u001b[39m\u001b[38;5;132;01m}\u001b[39;00m\u001b[38;5;124m\"\u001b[39m)\n",
      "\u001b[1;31mValueError\u001b[0m: invalid literal for int() with base 10: '2.5'"
     ]
    }
   ],
   "source": [
    "def convert_to_cm(feet, inches):\n",
    "    total_inches = feet * 12 + inches\n",
    "    cm = total_inches * 2.54\n",
    "    return cm\n",
    "\n",
    "feet = int(input(\"Enter height in feet: \"))\n",
    "inches = int(input(\"Enter height in inches: \"))\n",
    "\n",
    "cm = convert_to_cm(feet, inches)\n",
    "print(f\"Height in centimeters: {cm:.2f}\")"
   ]
  },
  {
   "cell_type": "markdown",
   "metadata": {},
   "source": [
    "## Question 18\n",
    "Write a program to find the length of the hypotenuse of a right-angled triangle."
   ]
  },
  {
   "cell_type": "code",
   "execution_count": 8,
   "metadata": {},
   "outputs": [
    {
     "name": "stdout",
     "output_type": "stream",
     "text": [
      "Enter the length of the first side: 23\n",
      "Enter the length of the second side: 45\n",
      "The length of the hypotenuse is: 50.54\n"
     ]
    }
   ],
   "source": [
    "import math\n",
    "\n",
    "def hypotenuse(a, b):\n",
    "    c = math.sqrt(a**2 + b**2)\n",
    "    return c\n",
    "\n",
    "a = float(input(\"Enter the length of the first side: \"))\n",
    "b = float(input(\"Enter the length of the second side: \"))\n",
    "\n",
    "c = hypotenuse(a, b)\n",
    "print(f\"The length of the hypotenuse is: {c:.2f}\")"
   ]
  },
  {
   "cell_type": "markdown",
   "metadata": {},
   "source": [
    "## Question 19\n",
    "Write a program to convert distance in kilometers to miles."
   ]
  },
  {
   "cell_type": "code",
   "execution_count": 9,
   "metadata": {},
   "outputs": [
    {
     "name": "stdout",
     "output_type": "stream",
     "text": [
      "Enter the distance in kilometers: 34\n",
      "The distance in miles is: 21.13\n"
     ]
    }
   ],
   "source": [
    "def convert_km_to_miles(km):\n",
    "    miles = km * 0.621371\n",
    "    return miles\n",
    "\n",
    "km = float(input(\"Enter the distance in kilometers: \"))\n",
    "\n",
    "miles = convert_km_to_miles(km)\n",
    "print(f\"The distance in miles is: {miles:.2f}\")"
   ]
  },
  {
   "cell_type": "markdown",
   "metadata": {},
   "source": [
    "## Question 20\n",
    "Write a program to convert days, hours, minutes, and seconds into seconds."
   ]
  },
  {
   "cell_type": "code",
   "execution_count": 11,
   "metadata": {},
   "outputs": [
    {
     "name": "stdout",
     "output_type": "stream",
     "text": [
      "Enter the number of days: 2\n",
      "Enter the number of hours: 12\n",
      "Enter the number of minutes: 23\n",
      "Enter the number of seconds: 42\n",
      "The total number of seconds is: 217422\n"
     ]
    }
   ],
   "source": [
    "def convert_time_to_seconds(days, hours, minutes, seconds):\n",
    "    total_seconds = (days * 24 * 60 * 60) + (hours * 60 * 60) + (minutes * 60) + seconds\n",
    "    return total_seconds\n",
    "\n",
    "days = int(input(\"Enter the number of days: \"))\n",
    "hours = int(input(\"Enter the number of hours: \"))\n",
    "minutes = int(input(\"Enter the number of minutes: \"))\n",
    "seconds = int(input(\"Enter the number of seconds: \"))\n",
    "\n",
    "total_seconds = convert_time_to_seconds(days, hours, minutes, seconds)\n",
    "print(f\"The total number of seconds is: {total_seconds}\")"
   ]
  },
  {
   "cell_type": "markdown",
   "metadata": {},
   "source": [
    "## Question 21\n",
    "Write a program to calculate Body Mass Index (BMI).\n"
   ]
  },
  {
   "cell_type": "code",
   "execution_count": 12,
   "metadata": {},
   "outputs": [
    {
     "name": "stdout",
     "output_type": "stream",
     "text": [
      "Enter your weight in kilograms: 45\n",
      "Enter your height in meters: 32\n",
      "Your BMI is: 0.04\n"
     ]
    }
   ],
   "source": [
    "def calculate_bmi(weight, height):\n",
    "    bmi = weight / (height ** 2)\n",
    "    return bmi\n",
    "\n",
    "weight = float(input(\"Enter your weight in kilograms: \"))\n",
    "height = float(input(\"Enter your height in meters: \"))\n",
    "\n",
    "bmi = calculate_bmi(weight, height)\n",
    "print(f\"Your BMI is: {bmi:.2f}\")\n"
   ]
  },
  {
   "cell_type": "markdown",
   "metadata": {},
   "source": [
    "## Question 22\n",
    "Write a program to convert temperature from Celsius to Fahrenheit and vice versa.\n",
    "\n"
   ]
  },
  {
   "cell_type": "code",
   "execution_count": 13,
   "metadata": {},
   "outputs": [
    {
     "name": "stdout",
     "output_type": "stream",
     "text": [
      "Enter the temperature in Celsius: 42\n",
      "42.0 degrees Celsius is equal to 107.6 degrees Fahrenheit.\n",
      "Enter the temperature in Fahrenheit: 45\n",
      "45.0 degrees Fahrenheit is equal to 7.222222222222222 degrees Celsius.\n"
     ]
    }
   ],
   "source": [
    "def convert_celsius_to_fahrenheit(celsius):\n",
    "    fahrenheit = (celsius * 9/5) + 32\n",
    "    return fahrenheit\n",
    "\n",
    "def convert_fahrenheit_to_celsius(fahrenheit):\n",
    "    celsius = (fahrenheit - 32) * 5/9\n",
    "    return celsius\n",
    "\n",
    "celsius = float(input(\"Enter the temperature in Celsius: \"))\n",
    "fahrenheit = convert_celsius_to_fahrenheit(celsius)\n",
    "print(f\"{celsius} degrees Celsius is equal to {fahrenheit} degrees Fahrenheit.\")\n",
    "\n",
    "fahrenheit = float(input(\"Enter the temperature in Fahrenheit: \"))\n",
    "celsius = convert_fahrenheit_to_celsius(fahrenheit)\n",
    "print(f\"{fahrenheit} degrees Fahrenheit is equal to {celsius} degrees Celsius.\")"
   ]
  },
  {
   "cell_type": "markdown",
   "metadata": {},
   "source": [
    "## Question 23\n",
    "Write a program to sum the first 'n' positive integers.\n"
   ]
  },
  {
   "cell_type": "code",
   "execution_count": 14,
   "metadata": {},
   "outputs": [
    {
     "name": "stdout",
     "output_type": "stream",
     "text": [
      "Enter a positive integer: 22\n",
      "The sum of the first 22 positive integers is: 253\n"
     ]
    }
   ],
   "source": [
    "def sum_of_positive_integers(n):\n",
    "    return sum(range(1, n+1))\n",
    "\n",
    "n = int(input(\"Enter a positive integer: \"))\n",
    "result = sum_of_positive_integers(n)\n",
    "print(\"The sum of the first\", n, \"positive integers is:\", result)"
   ]
  },
  {
   "cell_type": "markdown",
   "metadata": {},
   "source": [
    "## Question 24\n",
    "Write a program to calculate the sum of all the digits in a given integer.\n"
   ]
  },
  {
   "cell_type": "code",
   "execution_count": 15,
   "metadata": {},
   "outputs": [
    {
     "name": "stdout",
     "output_type": "stream",
     "text": [
      "Enter a number: 55\n",
      "The sum of the digits is:  10\n"
     ]
    }
   ],
   "source": [
    "def sum_of_digits(n):\n",
    "    sum = 0\n",
    "    while n != 0:\n",
    "        sum += n % 10\n",
    "        n //= 10\n",
    "    return sum\n",
    "\n",
    "n = int(input(\"Enter a number: \"))\n",
    "result = sum_of_digits(n)\n",
    "print(\"The sum of the digits is: \", result)\n",
    "def sum_of_digits(n):\n",
    "    return 0 if n == 0 else int(n % 10) + sum_of_digits(int(n / 10))\n",
    "\n",
    "\n"
   ]
  },
  {
   "cell_type": "markdown",
   "metadata": {},
   "source": [
    "## Question 25\n",
    "Write a program to convert a decimal number into binary, octal, and hexadecimal.\n"
   ]
  },
  {
   "cell_type": "code",
   "execution_count": 17,
   "metadata": {},
   "outputs": [
    {
     "name": "stdout",
     "output_type": "stream",
     "text": [
      "Enter a decimal number: 23\n",
      "Binary:  10111\n",
      "Octal:  27\n",
      "Hexadecimal:  17\n"
     ]
    }
   ],
   "source": [
    "def decimal_to_binary(n):\n",
    "    return bin(n).replace(\"0b\", \"\")\n",
    "\n",
    "def decimal_to_octal(n):\n",
    "    return oct(n).replace(\"0o\", \"\")\n",
    "\n",
    "def decimal_to_hexadecimal(n):\n",
    "    return hex(n).replace(\"0x\", \"\")\n",
    "\n",
    "n = int(input(\"Enter a decimal number: \"))\n",
    "\n",
    "binary = decimal_to_binary(n)\n",
    "octal = decimal_to_octal(n)\n",
    "hexadecimal = decimal_to_hexadecimal(n)\n",
    "\n",
    "print(\"Binary: \", binary)\n",
    "print(\"Octal: \", octal)\n",
    "print(\"Hexadecimal: \", hexadecimal)"
   ]
  },
  {
   "cell_type": "markdown",
   "metadata": {},
   "source": [
    "## Question 26\n",
    "Write a program to convert a binary number to decimal.\n"
   ]
  },
  {
   "cell_type": "code",
   "execution_count": 22,
   "metadata": {},
   "outputs": [
    {
     "name": "stdout",
     "output_type": "stream",
     "text": [
      "Enter a binary number: 0\n",
      "Decimal:  0\n"
     ]
    }
   ],
   "source": [
    "def binary_to_decimal(n):\n",
    "    decimal = 0\n",
    "    while n != 0:\n",
    "        n, remainder = divmod(n, 10)\n",
    "        decimal += remainder * (2 ** i)\n",
    "        i += 1\n",
    "    return decimal\n",
    "\n",
    "n = int(input(\"Enter a binary number: \"))\n",
    "result = binary_to_decimal(n)\n",
    "print(\"Decimal: \", result)"
   ]
  },
  {
   "cell_type": "markdown",
   "metadata": {},
   "source": [
    "## Question 27\n",
    "Write a program to convert an octal number to decimal.\n"
   ]
  },
  {
   "cell_type": "code",
   "execution_count": 56,
   "metadata": {},
   "outputs": [
    {
     "name": "stdout",
     "output_type": "stream",
     "text": [
      "20\n",
      "20\n"
     ]
    }
   ],
   "source": [
    "def octal_to_decimal(octal_number):\n",
    "    decimal_number = 0\n",
    "    base = 1\n",
    "    while octal_number != 0:\n",
    "        last_digit = octal_number % 10\n",
    "        decimal_number += last_digit * base\n",
    "        base *= 8\n",
    "        octal_number //= 10\n",
    "    return decimal_number\n",
    "\n",
    "# Test the function\n",
    "print(octal_to_decimal(24))  # Returns 20\n",
    "def octal_to_decimal(octal_number):\n",
    "    decimal_number = int(octal_number, 8)\n",
    "    return decimal_number\n",
    "\n",
    "# Test the function\n",
    "print(octal_to_decimal('24'))  # Returns 20"
   ]
  },
  {
   "cell_type": "markdown",
   "metadata": {},
   "source": [
    "## Question 28\n",
    "Write a program to convert a hexadecimal number to decimal.\n"
   ]
  },
  {
   "cell_type": "code",
   "execution_count": 27,
   "metadata": {},
   "outputs": [
    {
     "name": "stdout",
     "output_type": "stream",
     "text": [
      "6719\n"
     ]
    }
   ],
   "source": [
    "def hexadecimal_to_decimal(hexadecimal):\n",
    "    decimal = 0\n",
    "    hex_digits = str(hexadecimal)\n",
    "    power = len(hex_digits) - 1\n",
    "    hex_to_decimal = {'A': 10, 'B': 11, 'C': 12, 'D': 13, 'E': 14, 'F': 15}\n",
    "    for digit in hex_digits:\n",
    "        if digit.isdigit():\n",
    "            decimal += int(digit) * (16 ** power)\n",
    "        elif digit in hex_to_decimal:\n",
    "            decimal += hex_to_decimal[digit] * (16 ** power)\n",
    "        else:\n",
    "            raise ValueError(\"Invalid hexadecimal digit\")\n",
    "        power -= 1\n",
    "    return decimal\n",
    "print(hexadecimal_to_decimal('1A3F'))  # Output: 6727"
   ]
  },
  {
   "cell_type": "markdown",
   "metadata": {},
   "source": [
    "## Question 29\n",
    "Write a program to count the number of occurrences of a specific character in a string.\n"
   ]
  },
  {
   "cell_type": "code",
   "execution_count": 28,
   "metadata": {},
   "outputs": [
    {
     "name": "stdout",
     "output_type": "stream",
     "text": [
      "3\n",
      "3\n",
      "3\n"
     ]
    }
   ],
   "source": [
    "def count_char_occurrences(string, char):\n",
    "    count = 0\n",
    "    for c in string:\n",
    "        if c == char:\n",
    "            count += 1\n",
    "    return count\n",
    "print(count_char_occurrences('hello world', 'l'))  # Output: 3\n",
    "print(count_char_occurrences('Hello World', 'l'))  # Output: 0\n",
    "print(count_char_occurrences('Hello World'.lower(), 'l'))  # Output: 3\n"
   ]
  },
  {
   "cell_type": "markdown",
   "metadata": {},
   "source": [
    "## Question 30\n",
    "Write a program to find the greatest common divisor (GCD) or highest common factor (HCF) of two numbers.\n"
   ]
  },
  {
   "cell_type": "code",
   "execution_count": 29,
   "metadata": {},
   "outputs": [
    {
     "name": "stdout",
     "output_type": "stream",
     "text": [
      "14\n"
     ]
    }
   ],
   "source": [
    "def gcd(a, b):\n",
    "    while b != 0:\n",
    "        a, b = b, a % b\n",
    "    return abs(a)\n",
    "print(gcd(56, 98))  # Output: 14\n"
   ]
  },
  {
   "cell_type": "markdown",
   "metadata": {},
   "source": [
    "## Question 31\n",
    "Write a program to find the least common multiple (LCM) of two numbers.\n"
   ]
  },
  {
   "cell_type": "code",
   "execution_count": 30,
   "metadata": {},
   "outputs": [
    {
     "name": "stdout",
     "output_type": "stream",
     "text": [
      "392\n"
     ]
    }
   ],
   "source": [
    "def lcm(a, b):\n",
    "    return abs(a * b) // gcd(a, b)\n",
    "print(lcm(56, 98))  # Output: 364\n",
    "def lcm(a, b):\n",
    "    max_num = max(a, b)\n",
    "    while True:\n",
    "        if max_num % a == 0 and max_num % b == 0:\n",
    "            return max_num\n",
    "        max_num += 1"
   ]
  },
  {
   "cell_type": "markdown",
   "metadata": {},
   "source": [
    "## Question 32\n",
    "Write a program to reverse a given name.\n"
   ]
  },
  {
   "cell_type": "code",
   "execution_count": 31,
   "metadata": {},
   "outputs": [
    {
     "name": "stdout",
     "output_type": "stream",
     "text": [
      "Doe John\n"
     ]
    }
   ],
   "source": [
    "def reverse_name(name):\n",
    "    return ' '.join(reversed(name.split()))\n",
    "print(reverse_name('John Doe'))  # Output: 'Doe John'\n"
   ]
  },
  {
   "cell_type": "markdown",
   "metadata": {},
   "source": [
    "## Question 33\n",
    "Write a program to count the occurrences of a substring in a given string.\n"
   ]
  },
  {
   "cell_type": "code",
   "execution_count": 32,
   "metadata": {},
   "outputs": [
    {
     "name": "stdout",
     "output_type": "stream",
     "text": [
      "3\n",
      "1\n",
      "0\n",
      "1\n"
     ]
    }
   ],
   "source": [
    "def count_substring(string, substring):\n",
    "    return string.count(substring)\n",
    "print(count_substring('hello world', 'l'))  # Output: 3\n",
    "print(count_substring('hello world', 'lo'))  # Output: 1\n",
    "print(count_substring('hello world', 'xyz'))  # Output: 0\n",
    "print(count_substring('Hello World'.lower(), 'lo'.lower()))  # Output: 1"
   ]
  },
  {
   "cell_type": "markdown",
   "metadata": {},
   "source": [
    "## Question 34\n",
    "Write a program to distribute a given amount into notes.\n"
   ]
  },
  {
   "cell_type": "code",
   "execution_count": 36,
   "metadata": {},
   "outputs": [
    {
     "name": "stdout",
     "output_type": "stream",
     "text": [
      "[2, 0, 3, 1, 0, 0, 1, 0, 1]\n",
      "2 notes of 1000\n",
      "3 notes of 100\n",
      "1 notes of 50\n",
      "1 notes of 5\n",
      "1 notes of 1\n"
     ]
    }
   ],
   "source": [
    "def distribute_amount(amount):\n",
    "    notes = [1000, 500, 100, 50, 20, 10, 5, 2, 1]\n",
    "    distribution = [0] * len(notes)\n",
    "\n",
    "    for i in range(len(notes)):\n",
    "        if amount >= notes[i]:\n",
    "            distribution[i] = amount // notes[i]\n",
    "            amount = amount % notes[i]\n",
    "\n",
    "    return distribution\n",
    "\n",
    "# Test the function\n",
    "print(distribute_amount(2356))  # Returns [2, 1, 2, 1, 0, 1, 1, 0, 1]\n",
    "def distribute_amount(amount):\n",
    "    notes = [1000, 500, 100, 50, 20, 10, 5, 2, 1]\n",
    "\n",
    "    for i in range(len(notes)):\n",
    "        if amount >= notes[i]:\n",
    "            num_notes = amount // notes[i]\n",
    "            amount = amount % notes[i]\n",
    "            print(f'{num_notes} notes of {notes[i]}')\n",
    "\n",
    "# Test the function\n",
    "distribute_amount(2356)"
   ]
  },
  {
   "cell_type": "markdown",
   "metadata": {},
   "source": [
    "## Question 35\n",
    "Write a program to check whether a given string is a palindrome or not.\n"
   ]
  },
  {
   "cell_type": "code",
   "execution_count": 37,
   "metadata": {},
   "outputs": [
    {
     "name": "stdout",
     "output_type": "stream",
     "text": [
      "True\n",
      "False\n"
     ]
    }
   ],
   "source": [
    "def is_palindrome(s):\n",
    "    return s == s[::-1]\n",
    "\n",
    "# Test the function\n",
    "print(is_palindrome(\"racecar\"))   # True\n",
    "print(is_palindrome(\"hello\"))    # False"
   ]
  },
  {
   "cell_type": "markdown",
   "metadata": {},
   "source": [
    "## Question 36\n",
    "Write a program to check whether a given number is a palindrome or not.\n"
   ]
  },
  {
   "cell_type": "code",
   "execution_count": 38,
   "metadata": {},
   "outputs": [
    {
     "name": "stdout",
     "output_type": "stream",
     "text": [
      "True\n",
      "False\n"
     ]
    }
   ],
   "source": [
    "def is_num_palindrome(n):\n",
    "    return str(n) == str(n)[::-1]\n",
    "\n",
    "# Test the function\n",
    "print(is_num_palindrome(121))   # True\n",
    "print(is_num_palindrome(123))    # False"
   ]
  },
  {
   "cell_type": "markdown",
   "metadata": {},
   "source": [
    "## Question 37\n",
    "Write a program to generate the Fibonacci series.\n"
   ]
  },
  {
   "cell_type": "code",
   "execution_count": 39,
   "metadata": {},
   "outputs": [
    {
     "name": "stdout",
     "output_type": "stream",
     "text": [
      "[0, 1, 1, 2, 3, 5, 8, 13, 21, 34]\n"
     ]
    }
   ],
   "source": [
    "def fibonacci(n):\n",
    "    fib_seq = [0, 1]\n",
    "    while len(fib_seq) < n:\n",
    "        fib_seq.append(fib_seq[-1] + fib_seq[-2])\n",
    "    return fib_seq\n",
    "\n",
    "# Test the function\n",
    "print(fibonacci(10))   # [0, 1, 1, 2, 3, 5, 8, 13, 21, 34]"
   ]
  },
  {
   "cell_type": "markdown",
   "metadata": {},
   "source": [
    "## Question 38\n",
    "Write a program to print the multiplication table of a given number.\n"
   ]
  },
  {
   "cell_type": "code",
   "execution_count": 40,
   "metadata": {},
   "outputs": [
    {
     "name": "stdout",
     "output_type": "stream",
     "text": [
      "Enter the number: 45\n",
      "Multiplication Table of 45\n",
      "45 X 1 = 45\n",
      "45 X 2 = 90\n",
      "45 X 3 = 135\n",
      "45 X 4 = 180\n",
      "45 X 5 = 225\n",
      "45 X 6 = 270\n",
      "45 X 7 = 315\n",
      "45 X 8 = 360\n",
      "45 X 9 = 405\n",
      "45 X 10 = 450\n"
     ]
    }
   ],
   "source": [
    "num = int(input(\"Enter the number: \"))\n",
    "\n",
    "print(\"Multiplication Table of\", num)\n",
    "for i in range(1, 11):\n",
    "   print(num,\"X\",i,\"=\",num * i)\n"
   ]
  },
  {
   "cell_type": "markdown",
   "metadata": {},
   "source": [
    "## Question 39\n",
    "Write a program to count the number of letters and digits in a given string.\n"
   ]
  },
  {
   "cell_type": "code",
   "execution_count": 41,
   "metadata": {},
   "outputs": [
    {
     "name": "stdout",
     "output_type": "stream",
     "text": [
      "Number of letters: 16\n",
      "Number of digits: 2\n"
     ]
    }
   ],
   "source": [
    "def count_letters_and_digits(s):\n",
    "    letters = 0\n",
    "    digits = 0\n",
    "    for c in s:\n",
    "        if c.isalpha():\n",
    "            letters += 1\n",
    "        elif c.isdigit():\n",
    "            digits += 1\n",
    "    return letters, digits\n",
    "\n",
    "# Test the function\n",
    "s = \"Hello, I am 25 years old.\"\n",
    "letters, digits = count_letters_and_digits(s)\n",
    "print(\"Number of letters:\", letters)\n",
    "print(\"Number of digits:\", digits)"
   ]
  },
  {
   "cell_type": "markdown",
   "metadata": {},
   "source": [
    "## Question 40\n",
    "Write a program to print the following pattern:\n"
   ]
  },
  {
   "cell_type": "code",
   "execution_count": 55,
   "metadata": {},
   "outputs": [
    {
     "ename": "IndentationError",
     "evalue": "unindent does not match any outer indentation level (<tokenize>, line 3)",
     "output_type": "error",
     "traceback": [
      "\u001b[1;36m  File \u001b[1;32m<tokenize>:3\u001b[1;36m\u001b[0m\n\u001b[1;33m    *****\u001b[0m\n\u001b[1;37m    ^\u001b[0m\n\u001b[1;31mIndentationError\u001b[0m\u001b[1;31m:\u001b[0m unindent does not match any outer indentation level\n"
     ]
    }
   ],
   "source": [
    "   *\n",
    "  ***\n",
    " *****\n",
    "*******\n",
    " *****\n",
    "  ***\n",
    "   *\n",
    "    def print_pattern(n):\n",
    "    for i in range(n):\n",
    "        print(' ' * (n - i - 1) + '*' * (2 * i + 1))\n",
    "\n",
    "    for i in range(n - 2, -1, -1):\n",
    "        print(' ' * (n - i - 1) + '*' * (2 * i + 1))\n",
    "\n",
    "# Test the function\n",
    "print_pattern(4)\n",
    "print_pattern(5)\n",
    "    "
   ]
  }
 ],
 "metadata": {
  "anaconda-cloud": {},
  "kernelspec": {
   "display_name": "Python 3 (ipykernel)",
   "language": "python",
   "name": "python3"
  },
  "language_info": {
   "codemirror_mode": {
    "name": "ipython",
    "version": 3
   },
   "file_extension": ".py",
   "mimetype": "text/x-python",
   "name": "python",
   "nbconvert_exporter": "python",
   "pygments_lexer": "ipython3",
   "version": "3.11.5"
  }
 },
 "nbformat": 4,
 "nbformat_minor": 4
}
